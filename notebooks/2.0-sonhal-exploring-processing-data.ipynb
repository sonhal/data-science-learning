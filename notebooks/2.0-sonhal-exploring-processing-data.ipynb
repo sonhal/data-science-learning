{
 "cells": [
  {
   "cell_type": "markdown",
   "metadata": {},
   "source": [
    "# Advanced visualization using MathPlotlib"
   ]
  },
  {
   "cell_type": "code",
   "execution_count": 9,
   "metadata": {},
   "outputs": [],
   "source": [
    "import pandas as pd\n",
    "import numpy as np\n",
    "import os\n",
    "import matplotlib.pyplot as plt\n",
    "%matplotlib inline"
   ]
  },
  {
   "cell_type": "code",
   "execution_count": 10,
   "metadata": {},
   "outputs": [],
   "source": [
    "processed_data_path = os.path.join(os.path.pardir, \"data\", \"processed\")\n",
    "write_train_path = os.path.join(processed_data_path, \"train.csv\")\n",
    "write_test_path = os.path.join(processed_data_path, \"test.csv\")"
   ]
  },
  {
   "cell_type": "code",
   "execution_count": null,
   "metadata": {},
   "outputs": [],
   "source": []
  },
  {
   "cell_type": "code",
   "execution_count": 11,
   "metadata": {},
   "outputs": [],
   "source": [
    "train_df = pd.read_csv(write_train_path)"
   ]
  },
  {
   "cell_type": "code",
   "execution_count": 14,
   "metadata": {},
   "outputs": [],
   "source": [
    "test_df = pd.read_csv(write_test_path)"
   ]
  },
  {
   "cell_type": "code",
   "execution_count": 15,
   "metadata": {},
   "outputs": [],
   "source": [
    "df = pd.concat((train_df, test_df), axis=0, sort=True)"
   ]
  },
  {
   "cell_type": "code",
   "execution_count": 16,
   "metadata": {},
   "outputs": [
    {
     "data": {
      "text/plain": [
       "(array([ 80.,  62., 324., 426., 189., 108.,  66.,  41.,  10.,   3.]),\n",
       " array([ 0.17 ,  8.153, 16.136, 24.119, 32.102, 40.085, 48.068, 56.051,\n",
       "        64.034, 72.017, 80.   ]),\n",
       " <a list of 10 Patch objects>)"
      ]
     },
     "execution_count": 16,
     "metadata": {},
     "output_type": "execute_result"
    },
    {
     "data": {
      "image/png": "[encoded data removed]",
      "text/plain": [
       "<Figure size 432x288 with 1 Axes>"
      ]
     },
     "metadata": {},
     "output_type": "display_data"
    }
   ],
   "source": [
    "plt.hist(df.Age)"
   ]
  },
  {
   "cell_type": "code",
   "execution_count": 17,
   "metadata": {},
   "outputs": [
    {
     "name": "stdout",
     "output_type": "stream",
     "text": [
      "<class 'pandas.core.frame.DataFrame'>\n",
      "Int64Index: 1309 entries, 0 to 417\n",
      "Data columns (total 34 columns):\n",
      "Age                   1309 non-null float64\n",
      "AgeState_Adult        1309 non-null int64\n",
      "AgeState_Child        1309 non-null int64\n",
      "Deck_A                1309 non-null int64\n",
      "Deck_B                1309 non-null int64\n",
      "Deck_C                1309 non-null int64\n",
      "Deck_D                1309 non-null int64\n",
      "Deck_E                1309 non-null int64\n",
      "Deck_F                1309 non-null int64\n",
      "Deck_G                1309 non-null int64\n",
      "Deck_Z                1309 non-null int64\n",
      "Embarked_C            1309 non-null int64\n",
      "Embarked_Q            1309 non-null int64\n",
      "Embarked_S            1309 non-null int64\n",
      "FamilySize            1309 non-null int64\n",
      "Fare                  1309 non-null float64\n",
      "Fare_Bin_high         1309 non-null int64\n",
      "Fare_Bin_low          1309 non-null int64\n",
      "Fare_Bin_very_high    1309 non-null int64\n",
      "Fare_Bin_very_low     1309 non-null int64\n",
      "PassengerId           1309 non-null int64\n",
      "Pclass_1              1309 non-null int64\n",
      "Pclass_2              1309 non-null int64\n",
      "Pclass_3              1309 non-null int64\n",
      "Survived              891 non-null float64\n",
      "Title_Lady            1309 non-null int64\n",
      "Title_Master          1309 non-null int64\n",
      "Title_Miss            1309 non-null int64\n",
      "Title_Mr              1309 non-null int64\n",
      "Title_Mrs             1309 non-null int64\n",
      "Title_Officer         1309 non-null int64\n",
      "Title_Sir             1309 non-null int64\n",
      "isMale                1309 non-null int64\n",
      "isMother              1309 non-null int64\n",
      "dtypes: float64(3), int64(31)\n",
      "memory usage: 357.9 KB\n"
     ]
    }
   ],
   "source": [
    "df.info()"
   ]
  },
  {
   "cell_type": "code",
   "execution_count": 18,
   "metadata": {},
   "outputs": [
    {
     "data": {
      "image/png": "[encoded data removed]",
      "text/plain": [
       "<Figure size 432x288 with 1 Axes>"
      ]
     },
     "metadata": {},
     "output_type": "display_data"
    }
   ],
   "source": [
    "plt.hist(df.Age, color=\"c\", bins=20)\n",
    "plt.show()"
   ]
  },
  {
   "cell_type": "code",
   "execution_count": 19,
   "metadata": {},
   "outputs": [
    {
     "data": {
      "image/png": "[encoded data removed]",
      "text/plain": [
       "<Figure size 432x288 with 1 Axes>"
      ]
     },
     "metadata": {},
     "output_type": "display_data"
    }
   ],
   "source": [
    "plt.hist(df.Age, color=\"c\", bins=20)\n",
    "plt.title(\"Histogram : Age\")\n",
    "plt.xlabel(\"Bins\")\n",
    "plt.ylabel(\"Counts\")\n",
    "plt.show()"
   ]
  },
  {
   "cell_type": "code",
   "execution_count": 20,
   "metadata": {},
   "outputs": [
    {
     "data": {
      "image/png": "[encoded data removed]",
      "text/plain": [
       "<Figure size 432x288 with 1 Axes>"
      ]
     },
     "metadata": {},
     "output_type": "display_data"
    }
   ],
   "source": [
    "f, ax = plt.subplots()\n",
    "ax.hist(df.Age, bins=20, color=\"c\")\n",
    "ax.set_title(\"Histogram : Age\")\n",
    "ax.set_xlabel(\"Bins\")\n",
    "ax.set_ylabel(\"Counts\")\n",
    "plt.show()"
   ]
  },
  {
   "cell_type": "code",
   "execution_count": 22,
   "metadata": {},
   "outputs": [
    {
     "data": {
      "image/png": "[encoded data removed]",
      "text/plain": [
       "<Figure size 1008x216 with 2 Axes>"
      ]
     },
     "metadata": {},
     "output_type": "display_data"
    }
   ],
   "source": [
    "# Add subplots\n",
    "f, (ax1, ax2) = plt.subplots(1,2, figsize=(14,3))\n",
    "ax1.hist(df.Fare, bins=20, color=\"c\")\n",
    "ax1.set_title(\"Histogram : Fare\")\n",
    "ax1.set_xlabel(\"Bins\")\n",
    "ax1.set_ylabel(\"Counts\")\n",
    "\n",
    "ax2.hist(df.Age, bins=20, color=\"tomato\")\n",
    "ax2.set_title(\"Histogram : Age\")\n",
    "ax2.set_xlabel(\"Bins\")\n",
    "ax2.set_ylabel(\"Counts\")\n",
    "\n",
    "plt.show()"
   ]
  },
  {
   "cell_type": "code",
   "execution_count": null,
   "metadata": {},
   "outputs": [],
   "source": []
  }
 ],
 "metadata": {
  "kernelspec": {
   "display_name": "Python 3",
   "language": "python",
   "name": "python3"
  },
  "language_info": {
   "codemirror_mode": {
    "name": "ipython",
    "version": 3
   },
   "file_extension": ".py",
   "mimetype": "text/x-python",
   "name": "python",
   "nbconvert_exporter": "python",
   "pygments_lexer": "ipython3",
   "version": "3.6.5"
  }
 },
 "nbformat": 4,
 "nbformat_minor": 2
}
